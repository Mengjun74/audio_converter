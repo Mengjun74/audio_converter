{
 "cells": [
  {
   "cell_type": "code",
   "execution_count": 1,
   "metadata": {},
   "outputs": [],
   "source": [
    "from pydub import AudioSegment\n",
    "\n",
    "def convert_audio1(input_file, output_file, output_format):\n",
    "    \"\"\"Convert audio file to a specified format.\"\"\"\n",
    "    audio = AudioSegment.from_file(input_file)\n",
    "    audio.export(output_file, format=output_format)"
   ]
  },
  {
   "cell_type": "code",
   "execution_count": null,
   "metadata": {},
   "outputs": [
    {
     "ename": "NameError",
     "evalue": "name 'convert_audio' is not defined",
     "output_type": "error",
     "traceback": [
      "\u001b[0;31m---------------------------------------------------------------------------\u001b[0m",
      "\u001b[0;31mNameError\u001b[0m                                 Traceback (most recent call last)",
      "\u001b[0;32m/var/folders/rm/26cbn0p13hx36lqw_v6g2njm0000gp/T/ipykernel_67580/1474132751.py\u001b[0m in \u001b[0;36m<cell line: 1>\u001b[0;34m()\u001b[0m\n\u001b[0;32m----> 1\u001b[0;31m \u001b[0mconvert_audio\u001b[0m\u001b[0;34m(\u001b[0m\u001b[0;34m'data/Soundstatues_Amnesia.mp3'\u001b[0m\u001b[0;34m,\u001b[0m \u001b[0;34m'data/Soundstatues_Amnesia.wav'\u001b[0m\u001b[0;34m,\u001b[0m \u001b[0;34m'wav'\u001b[0m\u001b[0;34m)\u001b[0m\u001b[0;34m\u001b[0m\u001b[0;34m\u001b[0m\u001b[0m\n\u001b[0m",
      "\u001b[0;31mNameError\u001b[0m: name 'convert_audio' is not defined"
     ]
    }
   ],
   "source": [
    "# convert_audio1('data/Soundstatues_Amnesia.mp3', 'data/Soundstatues_Amnesia.wav', 'wav')"
   ]
  },
  {
   "cell_type": "code",
   "execution_count": 3,
   "metadata": {},
   "outputs": [
    {
     "name": "stdout",
     "output_type": "stream",
     "text": [
      "Successfully converted data/Soundstatues_Amnesia.mp3 to wav format at data/Soundstatues_Amnesia2.wav\n"
     ]
    }
   ],
   "source": [
    "from audio_converter.converter import convert_audio\n",
    "convert_audio('data/Soundstatues_Amnesia.mp3', 'data/Soundstatues_Amnesia2.wav', 'wav')"
   ]
  },
  {
   "cell_type": "code",
   "execution_count": null,
   "metadata": {},
   "outputs": [],
   "source": []
  }
 ],
 "metadata": {
  "kernelspec": {
   "display_name": "Python 3",
   "language": "python",
   "name": "python3"
  },
  "language_info": {
   "codemirror_mode": {
    "name": "ipython",
    "version": 3
   },
   "file_extension": ".py",
   "mimetype": "text/x-python",
   "name": "python",
   "nbconvert_exporter": "python",
   "pygments_lexer": "ipython3",
   "version": "3.10.6"
  }
 },
 "nbformat": 4,
 "nbformat_minor": 2
}
